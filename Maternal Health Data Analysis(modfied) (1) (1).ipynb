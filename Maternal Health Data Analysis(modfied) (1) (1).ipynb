{
 "cells": [
  {
   "cell_type": "markdown",
   "metadata": {},
   "source": [
    "# Maternal Health Data Analysis"
   ]
  },
  {
   "cell_type": "code",
   "execution_count": 2,
   "metadata": {},
   "outputs": [],
   "source": [
    "#import relevant libraries\n",
    "import pandas as pd\n",
    "import numpy as np\n",
    "import seaborn as sns\n",
    "import matplotlib.pyplot as plt\n",
    "from sklearn.model_selection import train_test_split\n",
    "from sklearn.linear_model import LinearRegression\n",
    "# from scipy.cluster.hierarchy import linkage, fcluster\n",
    "# from scipy.cluster.vq import kmeans, vq, whiten\n",
    "from sklearn.cluster import KMeans\n",
    "from sklearn.decomposition import PCA\n",
    "from sklearn.preprocessing import OneHotEncoder, LabelEncoder\n",
    "from sklearn.pipeline import make_pipeline\n",
    "from sklearn.metrics import mean_squared_error, mean_absolute_error, r2_score\n"
   ]
  },
  {
   "cell_type": "markdown",
   "metadata": {},
   "source": [
    "### Data Cleaning"
   ]
  },
  {
   "cell_type": "code",
   "execution_count": 3,
   "metadata": {},
   "outputs": [],
   "source": [
    "def wrangle(filepath):\n",
    "    \n",
    "    # import file\n",
    "    df = pd.read_excel(filepath)\n",
    "  \n",
    "    # remove outliers in Age. remove bottom and top 10%\n",
    "    low, high = df['Age'].quantile([0.1, 0.9])\n",
    "    mask_area = df['Age'].between(low, high)\n",
    "    df = df[mask_area]\n",
    "    \n",
    "    # rename column\n",
    "    df.rename(columns={'BS': \"Blood Sugar\"}, inplace=True)\n",
    "    \n",
    "    # create age groups\n",
    "    min_age = df['Age'].min()\n",
    "    max_age = df['Age'].max()\n",
    "    label_ranges = [min_age, 28, 39, max_age, np.inf]\n",
    "    label_names = ['17-27', '28-38', '39-50', \"50+\"]\n",
    "    df['AgeGroup'] = pd.cut(df['Age'], bins=label_ranges,\n",
    "                                labels=label_names)\n",
    "    \n",
    "    # encode Risklevel\n",
    "    le = LabelEncoder()\n",
    "    df['RiskLevel'] = le.fit_transform(df['RiskLevel'])\n",
    "    \n",
    "\n",
    "    \n",
    "    return df"
   ]
  },
  {
   "cell_type": "code",
   "execution_count": 4,
   "metadata": {},
   "outputs": [
    {
     "data": {
      "text/html": [
       "<div>\n",
       "<style scoped>\n",
       "    .dataframe tbody tr th:only-of-type {\n",
       "        vertical-align: middle;\n",
       "    }\n",
       "\n",
       "    .dataframe tbody tr th {\n",
       "        vertical-align: top;\n",
       "    }\n",
       "\n",
       "    .dataframe thead th {\n",
       "        text-align: right;\n",
       "    }\n",
       "</style>\n",
       "<table border=\"1\" class=\"dataframe\">\n",
       "  <thead>\n",
       "    <tr style=\"text-align: right;\">\n",
       "      <th></th>\n",
       "      <th>Age</th>\n",
       "      <th>SystolicBP</th>\n",
       "      <th>DiastolicBP</th>\n",
       "      <th>Blood Sugar</th>\n",
       "      <th>BodyTemp</th>\n",
       "      <th>HeartRate</th>\n",
       "      <th>RiskLevel</th>\n",
       "      <th>AgeGroup</th>\n",
       "    </tr>\n",
       "  </thead>\n",
       "  <tbody>\n",
       "    <tr>\n",
       "      <th>0</th>\n",
       "      <td>25</td>\n",
       "      <td>130</td>\n",
       "      <td>80</td>\n",
       "      <td>15.0</td>\n",
       "      <td>98.0</td>\n",
       "      <td>86</td>\n",
       "      <td>0</td>\n",
       "      <td>17-27</td>\n",
       "    </tr>\n",
       "    <tr>\n",
       "      <th>1</th>\n",
       "      <td>35</td>\n",
       "      <td>140</td>\n",
       "      <td>90</td>\n",
       "      <td>13.0</td>\n",
       "      <td>98.0</td>\n",
       "      <td>70</td>\n",
       "      <td>0</td>\n",
       "      <td>28-38</td>\n",
       "    </tr>\n",
       "    <tr>\n",
       "      <th>2</th>\n",
       "      <td>29</td>\n",
       "      <td>90</td>\n",
       "      <td>70</td>\n",
       "      <td>8.0</td>\n",
       "      <td>100.0</td>\n",
       "      <td>80</td>\n",
       "      <td>0</td>\n",
       "      <td>28-38</td>\n",
       "    </tr>\n",
       "    <tr>\n",
       "      <th>3</th>\n",
       "      <td>30</td>\n",
       "      <td>140</td>\n",
       "      <td>85</td>\n",
       "      <td>7.0</td>\n",
       "      <td>98.0</td>\n",
       "      <td>70</td>\n",
       "      <td>0</td>\n",
       "      <td>28-38</td>\n",
       "    </tr>\n",
       "    <tr>\n",
       "      <th>4</th>\n",
       "      <td>35</td>\n",
       "      <td>120</td>\n",
       "      <td>60</td>\n",
       "      <td>6.1</td>\n",
       "      <td>98.0</td>\n",
       "      <td>76</td>\n",
       "      <td>1</td>\n",
       "      <td>28-38</td>\n",
       "    </tr>\n",
       "  </tbody>\n",
       "</table>\n",
       "</div>"
      ],
      "text/plain": [
       "   Age  SystolicBP  DiastolicBP  Blood Sugar  BodyTemp  HeartRate  RiskLevel  \\\n",
       "0   25         130           80         15.0      98.0         86          0   \n",
       "1   35         140           90         13.0      98.0         70          0   \n",
       "2   29          90           70          8.0     100.0         80          0   \n",
       "3   30         140           85          7.0      98.0         70          0   \n",
       "4   35         120           60          6.1      98.0         76          1   \n",
       "\n",
       "  AgeGroup  \n",
       "0    17-27  \n",
       "1    28-38  \n",
       "2    28-38  \n",
       "3    28-38  \n",
       "4    28-38  "
      ]
     },
     "execution_count": 4,
     "metadata": {},
     "output_type": "execute_result"
    }
   ],
   "source": [
    "# Load the dataset\n",
    "df = wrangle(\"mhs.xls\")\n",
    "df.head()"
   ]
  },
  {
   "cell_type": "code",
   "execution_count": 5,
   "metadata": {},
   "outputs": [
    {
     "name": "stdout",
     "output_type": "stream",
     "text": [
      "<class 'pandas.core.frame.DataFrame'>\n",
      "Int64Index: 865 entries, 0 to 1013\n",
      "Data columns (total 8 columns):\n",
      " #   Column       Non-Null Count  Dtype   \n",
      "---  ------       --------------  -----   \n",
      " 0   Age          865 non-null    int64   \n",
      " 1   SystolicBP   865 non-null    int64   \n",
      " 2   DiastolicBP  865 non-null    int64   \n",
      " 3   Blood Sugar  865 non-null    float64 \n",
      " 4   BodyTemp     865 non-null    float64 \n",
      " 5   HeartRate    865 non-null    int64   \n",
      " 6   RiskLevel    865 non-null    int32   \n",
      " 7   AgeGroup     805 non-null    category\n",
      "dtypes: category(1), float64(2), int32(1), int64(4)\n",
      "memory usage: 51.7 KB\n"
     ]
    }
   ],
   "source": [
    "# inspect dataframe\n",
    "df.info()"
   ]
  },
  {
   "cell_type": "code",
   "execution_count": 6,
   "metadata": {},
   "outputs": [
    {
     "data": {
      "text/html": [
       "<div>\n",
       "<style scoped>\n",
       "    .dataframe tbody tr th:only-of-type {\n",
       "        vertical-align: middle;\n",
       "    }\n",
       "\n",
       "    .dataframe tbody tr th {\n",
       "        vertical-align: top;\n",
       "    }\n",
       "\n",
       "    .dataframe thead th {\n",
       "        text-align: right;\n",
       "    }\n",
       "</style>\n",
       "<table border=\"1\" class=\"dataframe\">\n",
       "  <thead>\n",
       "    <tr style=\"text-align: right;\">\n",
       "      <th></th>\n",
       "      <th>Age</th>\n",
       "      <th>SystolicBP</th>\n",
       "      <th>DiastolicBP</th>\n",
       "      <th>Blood Sugar</th>\n",
       "      <th>BodyTemp</th>\n",
       "      <th>HeartRate</th>\n",
       "      <th>RiskLevel</th>\n",
       "    </tr>\n",
       "  </thead>\n",
       "  <tbody>\n",
       "    <tr>\n",
       "      <th>count</th>\n",
       "      <td>865.000000</td>\n",
       "      <td>865.000000</td>\n",
       "      <td>865.000000</td>\n",
       "      <td>865.000000</td>\n",
       "      <td>865.000000</td>\n",
       "      <td>865.000000</td>\n",
       "      <td>865.000000</td>\n",
       "    </tr>\n",
       "    <tr>\n",
       "      <th>mean</th>\n",
       "      <td>27.936416</td>\n",
       "      <td>113.675145</td>\n",
       "      <td>76.654335</td>\n",
       "      <td>8.554393</td>\n",
       "      <td>98.627052</td>\n",
       "      <td>74.750289</td>\n",
       "      <td>1.077457</td>\n",
       "    </tr>\n",
       "    <tr>\n",
       "      <th>std</th>\n",
       "      <td>10.198692</td>\n",
       "      <td>18.218063</td>\n",
       "      <td>13.736005</td>\n",
       "      <td>3.097375</td>\n",
       "      <td>1.336614</td>\n",
       "      <td>8.046599</td>\n",
       "      <td>0.765133</td>\n",
       "    </tr>\n",
       "    <tr>\n",
       "      <th>min</th>\n",
       "      <td>15.000000</td>\n",
       "      <td>70.000000</td>\n",
       "      <td>49.000000</td>\n",
       "      <td>6.000000</td>\n",
       "      <td>98.000000</td>\n",
       "      <td>7.000000</td>\n",
       "      <td>0.000000</td>\n",
       "    </tr>\n",
       "    <tr>\n",
       "      <th>25%</th>\n",
       "      <td>19.000000</td>\n",
       "      <td>100.000000</td>\n",
       "      <td>65.000000</td>\n",
       "      <td>6.900000</td>\n",
       "      <td>98.000000</td>\n",
       "      <td>70.000000</td>\n",
       "      <td>0.000000</td>\n",
       "    </tr>\n",
       "    <tr>\n",
       "      <th>50%</th>\n",
       "      <td>25.000000</td>\n",
       "      <td>120.000000</td>\n",
       "      <td>80.000000</td>\n",
       "      <td>7.500000</td>\n",
       "      <td>98.000000</td>\n",
       "      <td>76.000000</td>\n",
       "      <td>1.000000</td>\n",
       "    </tr>\n",
       "    <tr>\n",
       "      <th>75%</th>\n",
       "      <td>35.000000</td>\n",
       "      <td>120.000000</td>\n",
       "      <td>90.000000</td>\n",
       "      <td>7.900000</td>\n",
       "      <td>98.000000</td>\n",
       "      <td>80.000000</td>\n",
       "      <td>2.000000</td>\n",
       "    </tr>\n",
       "    <tr>\n",
       "      <th>max</th>\n",
       "      <td>50.000000</td>\n",
       "      <td>160.000000</td>\n",
       "      <td>100.000000</td>\n",
       "      <td>19.000000</td>\n",
       "      <td>103.000000</td>\n",
       "      <td>90.000000</td>\n",
       "      <td>2.000000</td>\n",
       "    </tr>\n",
       "  </tbody>\n",
       "</table>\n",
       "</div>"
      ],
      "text/plain": [
       "              Age  SystolicBP  DiastolicBP  Blood Sugar    BodyTemp  \\\n",
       "count  865.000000  865.000000   865.000000   865.000000  865.000000   \n",
       "mean    27.936416  113.675145    76.654335     8.554393   98.627052   \n",
       "std     10.198692   18.218063    13.736005     3.097375    1.336614   \n",
       "min     15.000000   70.000000    49.000000     6.000000   98.000000   \n",
       "25%     19.000000  100.000000    65.000000     6.900000   98.000000   \n",
       "50%     25.000000  120.000000    80.000000     7.500000   98.000000   \n",
       "75%     35.000000  120.000000    90.000000     7.900000   98.000000   \n",
       "max     50.000000  160.000000   100.000000    19.000000  103.000000   \n",
       "\n",
       "        HeartRate   RiskLevel  \n",
       "count  865.000000  865.000000  \n",
       "mean    74.750289    1.077457  \n",
       "std      8.046599    0.765133  \n",
       "min      7.000000    0.000000  \n",
       "25%     70.000000    0.000000  \n",
       "50%     76.000000    1.000000  \n",
       "75%     80.000000    2.000000  \n",
       "max     90.000000    2.000000  "
      ]
     },
     "execution_count": 6,
     "metadata": {},
     "output_type": "execute_result"
    }
   ],
   "source": [
    "# summarize data\n",
    "df.describe()"
   ]
  },
  {
   "cell_type": "markdown",
   "metadata": {},
   "source": []
  },
  {
   "cell_type": "markdown",
   "metadata": {},
   "source": [
    "#### Age Distribution "
   ]
  },
  {
   "cell_type": "code",
   "execution_count": 7,
   "metadata": {},
   "outputs": [
    {
     "data": {
      "image/png": "[encoded data removed]",
      "text/plain": [
       "<Figure size 640x480 with 1 Axes>"
      ]
     },
     "metadata": {},
     "output_type": "display_data"
    }
   ],
   "source": [
    "# create histogram\n",
    "plt.hist(x = \"Age\", data=df)\n",
    "plt.xlabel('Age Group')\n",
    "plt.ylabel('Frequency')\n",
    "plt.title('Age Distribution')\n",
    "plt.show();"
   ]
  },
  {
   "cell_type": "markdown",
   "metadata": {},
   "source": [
    " ### Relationship between Age and Heart Rate by Age Grouping"
   ]
  },
  {
   "cell_type": "raw",
   "metadata": {},
   "source": [
    "# Calculate the mean heart rate for each age group\n",
    "mean_heart_rate = df.groupby('AgeGroup')['HeartRate'].mean()\n",
    "\n",
    "# Plot the mean heart rate for each age group\n",
    "plt.bar(mean_heart_rate.index, mean_heart_rate.values)\n",
    "plt.xlabel('Age Group')\n",
    "plt.ylabel('Mean Heart Rate')\n",
    "plt.title('Mean Heart Rate by Age Group')\n",
    "plt.xticks(rotation=70)\n",
    "plt.show()"
   ]
  },
  {
   "cell_type": "markdown",
   "metadata": {},
   "source": [
    "#### Correlation between Age and Systolic BP"
   ]
  },
  {
   "cell_type": "code",
   "execution_count": 8,
   "metadata": {},
   "outputs": [
    {
     "name": "stdout",
     "output_type": "stream",
     "text": [
      "Correlation coefficient between Age and Systolic BP: 0.471852\n"
     ]
    }
   ],
   "source": [
    "# Calculate the correlation coefficient\n",
    "correlation = df['Age'].corr(df['SystolicBP'])\n",
    "\n",
    "# Print the correlation coefficient\n",
    "print(\"Correlation coefficient between Age and Systolic BP:\", correlation.round(7))"
   ]
  },
  {
   "cell_type": "markdown",
   "metadata": {},
   "source": [
    "#### Association Investigation"
   ]
  },
  {
   "cell_type": "code",
   "execution_count": 9,
   "metadata": {},
   "outputs": [],
   "source": [
    "# create BP values dataframe\n",
    "df1 = df[['SystolicBP', 'DiastolicBP']]\n",
    "\n",
    "# Defining the blood pressure categories\n",
    "high_systolic = df1['SystolicBP'] >= 140\n",
    "high_diastolic = df1['DiastolicBP'] >= 90\n",
    "normal_systolic = (df1['SystolicBP'] > 110) & (df1['SystolicBP'] < 140)\n",
    "normal_diastolic = (df1['DiastolicBP'] > 70) & (df1['DiastolicBP'] < 90)\n",
    "low_systolic = df1['SystolicBP'] < 110\n",
    "low_diastolic = df1['DiastolicBP'] < 70"
   ]
  },
  {
   "cell_type": "code",
   "execution_count": 10,
   "metadata": {},
   "outputs": [],
   "source": [
    "# We need to get the amount of occurences for each blood pressure group category combo, high/high, normal/normal, low/low\n",
    "hh_count = sum(high_systolic & high_diastolic)\n",
    "nn_count = sum(normal_systolic & normal_diastolic)\n",
    "ll_count = sum(low_systolic & low_diastolic)\n",
    "\n",
    "#calculate the total number of occurences\n",
    "total_occurences = len(df1)"
   ]
  },
  {
   "cell_type": "code",
   "execution_count": 11,
   "metadata": {},
   "outputs": [],
   "source": [
    "# Calculating the support for each category combo\n",
    "support_high_high = hh_count / total_occurences\n",
    "support_normal_normal = nn_count / total_occurences\n",
    "support_low_low = ll_count / total_occurences\n",
    "\n",
    "# Calculating the confidence for each category combo\n",
    "confidence_high_high = hh_count / sum(high_systolic)\n",
    "confidence_normal_normal = nn_count / sum(normal_systolic)\n",
    "confidence_low_low = ll_count / sum(low_systolic)\n",
    "\n",
    "# Calculate the conviction for each category combo\n",
    "conviction_high_high = (1 - support_low_low) / (1 - confidence_high_high)\n",
    "conviction_normal_normal = (1 - support_low_low) / (1 - confidence_normal_normal)\n",
    "conviction_low_low = (1 - support_high_high) / (1 - confidence_low_low)\n",
    "\n",
    "# Calculate the lift for each category combination\n",
    "lift_high_high = confidence_high_high / support_high_high\n",
    "lift_normal_normal = confidence_normal_normal / support_normal_normal\n",
    "lift_low_low = confidence_low_low / support_low_low"
   ]
  },
  {
   "cell_type": "code",
   "execution_count": 12,
   "metadata": {},
   "outputs": [
    {
     "name": "stdout",
     "output_type": "stream",
     "text": [
      "Support (High / High): 0.10751445086705202\n",
      "Support (Normal / Normal): 0.29364161849710985\n",
      "Support (Low / Low): 0.23121387283236994\n",
      "\n",
      "\n",
      "Confidence (High / High): 0.9029126213592233\n",
      "Confidence (Normal / Normal): 0.5369978858350951\n",
      "Confidence (Low / Low): 0.7352941176470589\n",
      "\n",
      "\n",
      "Conviction (High / High): 7.9184971098265935\n",
      "Conviction (Normal / Normal): 1.6604376171246074\n",
      "Conviction (Low / Low): 3.3716120745022486\n",
      "\n",
      "\n",
      "Lift (High / High): 8.398058252427184\n",
      "Lift (Normal / Normal): 1.828752642706131\n",
      "Lift (Low / Low): 3.18014705882353\n"
     ]
    }
   ],
   "source": [
    "# Printing the metrics\n",
    "print(\"Support (High / High):\", support_high_high)\n",
    "print(\"Support (Normal / Normal):\", support_normal_normal)\n",
    "print(\"Support (Low / Low):\", support_low_low)\n",
    "print('\\n')\n",
    "print(\"Confidence (High / High):\", confidence_high_high)\n",
    "print(\"Confidence (Normal / Normal):\", confidence_normal_normal)\n",
    "print(\"Confidence (Low / Low):\", confidence_low_low)\n",
    "print('\\n')\n",
    "print(\"Conviction (High / High):\", conviction_high_high)\n",
    "print(\"Conviction (Normal / Normal):\", conviction_normal_normal)\n",
    "print(\"Conviction (Low / Low):\", conviction_low_low)\n",
    "print('\\n')\n",
    "print(\"Lift (High / High):\", lift_high_high)\n",
    "print(\"Lift (Normal / Normal):\", lift_normal_normal)\n",
    "print(\"Lift (Low / Low):\", lift_low_low)"
   ]
  },
  {
   "cell_type": "markdown",
   "metadata": {},
   "source": [
    "#### Cluster Analysis"
   ]
  },
  {
   "cell_type": "code",
   "execution_count": 13,
   "metadata": {},
   "outputs": [
    {
     "name": "stderr",
     "output_type": "stream",
     "text": [
      "C:\\Users\\ISMAIL\\Documents\\Github_Folder\\lib\\site-packages\\sklearn\\cluster\\_kmeans.py:1382: UserWarning: KMeans is known to have a memory leak on Windows with MKL, when there are less chunks than available threads. You can avoid it by setting the environment variable OMP_NUM_THREADS=4.\n",
      "  warnings.warn(\n"
     ]
    },
    {
     "name": "stdout",
     "output_type": "stream",
     "text": [
      "Cluster 0: 162 patients\n",
      "Cluster 1: 272 patients\n",
      "Cluster 2: 431 patients\n"
     ]
    },
    {
     "data": {
      "image/png": "[encoded data removed]",
      "text/plain": [
       "<Figure size 1000x600 with 2 Axes>"
      ]
     },
     "metadata": {},
     "output_type": "display_data"
    }
   ],
   "source": [
    "# isolate target variable\n",
    "systolic_bp = df['SystolicBP'].values.reshape(-1, 1)\n",
    "\n",
    "# Perform clustering using K-means\n",
    "kmeans = KMeans(n_clusters=3, random_state=42, n_init=10)\n",
    "kmeans.fit(systolic_bp)\n",
    "\n",
    "# Get the cluster labels assigned to each patient\n",
    "cluster_labels = kmeans.labels_\n",
    "\n",
    "# Add the cluster labels to the DataFrame\n",
    "df['Cluster'] = cluster_labels\n",
    "\n",
    "# Analyze the clusters\n",
    "cluster_centers = kmeans.cluster_centers_\n",
    "# count items in cluster\n",
    "cluster_sizes = np.bincount(cluster_labels)\n",
    "\n",
    "# Print the cluster sizes\n",
    "for i, size in enumerate(cluster_sizes):\n",
    "    print(f\"Cluster {i}: {size} patients\")\n",
    "\n",
    "# Plot the clusters\n",
    "plt.figure(figsize=(10, 6))\n",
    "plt.scatter(df.index, df['SystolicBP'], c=cluster_labels, cmap='viridis')\n",
    "plt.scatter(range(3), cluster_centers, c='red', marker='x', s=100)\n",
    "plt.xlabel('Patient Index')\n",
    "plt.ylabel('Systolic BP')\n",
    "plt.title('Clustering of Patients based on Systolic BP')\n",
    "plt.colorbar(label='Cluster')\n",
    "plt.show()"
   ]
  },
  {
   "cell_type": "code",
   "execution_count": 14,
   "metadata": {},
   "outputs": [
    {
     "data": {
      "text/html": [
       "<div>\n",
       "<style scoped>\n",
       "    .dataframe tbody tr th:only-of-type {\n",
       "        vertical-align: middle;\n",
       "    }\n",
       "\n",
       "    .dataframe tbody tr th {\n",
       "        vertical-align: top;\n",
       "    }\n",
       "\n",
       "    .dataframe thead th {\n",
       "        text-align: right;\n",
       "    }\n",
       "</style>\n",
       "<table border=\"1\" class=\"dataframe\">\n",
       "  <thead>\n",
       "    <tr style=\"text-align: right;\">\n",
       "      <th></th>\n",
       "      <th>Age</th>\n",
       "      <th>SystolicBP</th>\n",
       "      <th>DiastolicBP</th>\n",
       "      <th>Blood Sugar</th>\n",
       "      <th>BodyTemp</th>\n",
       "      <th>HeartRate</th>\n",
       "      <th>RiskLevel</th>\n",
       "      <th>AgeGroup</th>\n",
       "      <th>Cluster</th>\n",
       "    </tr>\n",
       "  </thead>\n",
       "  <tbody>\n",
       "    <tr>\n",
       "      <th>0</th>\n",
       "      <td>25</td>\n",
       "      <td>130</td>\n",
       "      <td>80</td>\n",
       "      <td>15.0</td>\n",
       "      <td>98.0</td>\n",
       "      <td>86</td>\n",
       "      <td>0</td>\n",
       "      <td>17-27</td>\n",
       "      <td>0</td>\n",
       "    </tr>\n",
       "    <tr>\n",
       "      <th>1</th>\n",
       "      <td>35</td>\n",
       "      <td>140</td>\n",
       "      <td>90</td>\n",
       "      <td>13.0</td>\n",
       "      <td>98.0</td>\n",
       "      <td>70</td>\n",
       "      <td>0</td>\n",
       "      <td>28-38</td>\n",
       "      <td>0</td>\n",
       "    </tr>\n",
       "    <tr>\n",
       "      <th>2</th>\n",
       "      <td>29</td>\n",
       "      <td>90</td>\n",
       "      <td>70</td>\n",
       "      <td>8.0</td>\n",
       "      <td>100.0</td>\n",
       "      <td>80</td>\n",
       "      <td>0</td>\n",
       "      <td>28-38</td>\n",
       "      <td>1</td>\n",
       "    </tr>\n",
       "    <tr>\n",
       "      <th>3</th>\n",
       "      <td>30</td>\n",
       "      <td>140</td>\n",
       "      <td>85</td>\n",
       "      <td>7.0</td>\n",
       "      <td>98.0</td>\n",
       "      <td>70</td>\n",
       "      <td>0</td>\n",
       "      <td>28-38</td>\n",
       "      <td>0</td>\n",
       "    </tr>\n",
       "    <tr>\n",
       "      <th>4</th>\n",
       "      <td>35</td>\n",
       "      <td>120</td>\n",
       "      <td>60</td>\n",
       "      <td>6.1</td>\n",
       "      <td>98.0</td>\n",
       "      <td>76</td>\n",
       "      <td>1</td>\n",
       "      <td>28-38</td>\n",
       "      <td>2</td>\n",
       "    </tr>\n",
       "  </tbody>\n",
       "</table>\n",
       "</div>"
      ],
      "text/plain": [
       "   Age  SystolicBP  DiastolicBP  Blood Sugar  BodyTemp  HeartRate  RiskLevel  \\\n",
       "0   25         130           80         15.0      98.0         86          0   \n",
       "1   35         140           90         13.0      98.0         70          0   \n",
       "2   29          90           70          8.0     100.0         80          0   \n",
       "3   30         140           85          7.0      98.0         70          0   \n",
       "4   35         120           60          6.1      98.0         76          1   \n",
       "\n",
       "  AgeGroup  Cluster  \n",
       "0    17-27        0  \n",
       "1    28-38        0  \n",
       "2    28-38        1  \n",
       "3    28-38        0  \n",
       "4    28-38        2  "
      ]
     },
     "execution_count": 14,
     "metadata": {},
     "output_type": "execute_result"
    }
   ],
   "source": [
    "df.head()"
   ]
  },
  {
   "cell_type": "markdown",
   "metadata": {},
   "source": [
    "# Model Creation Without PCA"
   ]
  },
  {
   "cell_type": "code",
   "execution_count": 15,
   "metadata": {},
   "outputs": [
    {
     "name": "stdout",
     "output_type": "stream",
     "text": [
      "Mean SystolicBP: 113.59mmHg\n",
      "Baseline MAE: 15.3mmHg\n",
      "Test MAE: 8.76\n",
      "Test accuracy: 0.5991390400505396\n",
      "Test Set RMSE: 10.712923249284858\n",
      "Feature 1: Importance = 0.2710440649957531\n",
      "Feature 2: Importance = 0.890732930578085\n",
      "Feature 3: Importance = 0.444252172105941\n",
      "Feature 4: Importance = -0.9203949338017745\n",
      "Feature 5: Importance = -0.0076569588389478905\n",
      "Feature 6: Importance = 1.5986592432470943\n"
     ]
    }
   ],
   "source": [
    "# declare target variables\n",
    "target = 'SystolicBP'\n",
    "X = df.drop(columns=[target, 'AgeGroup','Cluster'])\n",
    "y = df[target]\n",
    "\n",
    "# Splitting the data into training and testing sets\n",
    "X_train, X_test, y_train, y_test = train_test_split(X, y, test_size=0.2, random_state=42)\n",
    "\n",
    "y_mean = y_train.mean()\n",
    "y_pred_baseline = [y_mean] * len(y_train)\n",
    "baseline_mae = mean_absolute_error(y_pred_baseline, y_train)\n",
    "print(f\"Mean SystolicBP: {y_mean.round(2)}mmHg\")\n",
    "print(f\"Baseline MAE: {baseline_mae.round(2)}mmHg\")\n",
    "\n",
    "model_lr = LinearRegression()\n",
    "\n",
    "# Fitting the model to the training data\n",
    "model_lr.fit(X_train, y_train)\n",
    "\n",
    "# Make predictions on the test set\n",
    "y_pred = model_lr.predict(X_test)\n",
    "\n",
    "# calculate test MAE\n",
    "mae_test = mean_absolute_error(y_pred, y_test)\n",
    "print(\"Test MAE: {}\".format(round(mae_test, 2)))\n",
    "\n",
    "# calculate accuracy\n",
    "accuracy = model_lr.score(X_test, y_test)\n",
    "print(\"Test accuracy: {}\".format(accuracy))\n",
    "\n",
    "# Calculate the test_rmse\n",
    "test_rmse = mean_squared_error(y_test, y_pred) ** (1/2)\n",
    "print(\"Test Set RMSE: {}\".format(test_rmse))\n",
    "\n",
    "# Get feature coefficients (importances)\n",
    "coefficients = model_lr.coef_\n",
    "\n",
    "# Print feature importances\n",
    "for i, coefficient in enumerate(coefficients):\n",
    "    print(f\"Feature {i+1}: Importance = {coefficient}\")\n"
   ]
  },
  {
   "cell_type": "markdown",
   "metadata": {},
   "source": [
    "## Model Creation With PCA \n",
    "### Split"
   ]
  },
  {
   "cell_type": "code",
   "execution_count": 16,
   "metadata": {},
   "outputs": [],
   "source": [
    "# declare target variables\n",
    "target = 'SystolicBP'\n",
    "X = df.drop(columns=[target, 'AgeGroup','Cluster'])\n",
    "y = df[target]\n",
    "\n",
    "#Apply PCA to reduce the dimensionality of the feature space\n",
    "pca = PCA(n_components=2)  \n",
    "X_pca = pca.fit_transform(X)"
   ]
  },
  {
   "cell_type": "code",
   "execution_count": 17,
   "metadata": {},
   "outputs": [],
   "source": [
    "# Splitting the data into training and testing sets\n",
    "X_train, X_test, y_train, y_test = train_test_split(X_pca, y, test_size=0.2, random_state=42)  "
   ]
  },
  {
   "cell_type": "markdown",
   "metadata": {},
   "source": []
  },
  {
   "cell_type": "markdown",
   "metadata": {},
   "source": [
    "## Build Model \n"
   ]
  },
  {
   "cell_type": "markdown",
   "metadata": {},
   "source": [
    "### Baseline"
   ]
  },
  {
   "cell_type": "code",
   "execution_count": 18,
   "metadata": {},
   "outputs": [
    {
     "name": "stdout",
     "output_type": "stream",
     "text": [
      "Mean SystolicBP: 113.59mmHg\n",
      "Baseline MAE: 15.3mmHg\n"
     ]
    }
   ],
   "source": [
    "y_mean = y_train.mean()\n",
    "y_pred_baseline = [y_mean] * len(y_train)\n",
    "baseline_mae = mean_absolute_error(y_pred_baseline, y_train)\n",
    "print(f\"Mean SystolicBP: {y_mean.round(2)}mmHg\")\n",
    "print(f\"Baseline MAE: {baseline_mae.round(2)}mmHg\")"
   ]
  },
  {
   "cell_type": "markdown",
   "metadata": {},
   "source": [
    "### Iterate"
   ]
  },
  {
   "cell_type": "code",
   "execution_count": 19,
   "metadata": {},
   "outputs": [
    {
     "data": {
      "text/html": [
       "<style>#sk-container-id-1 {color: black;background-color: white;}#sk-container-id-1 pre{padding: 0;}#sk-container-id-1 div.sk-toggleable {background-color: white;}#sk-container-id-1 label.sk-toggleable__label {cursor: pointer;display: block;width: 100%;margin-bottom: 0;padding: 0.3em;box-sizing: border-box;text-align: center;}#sk-container-id-1 label.sk-toggleable__label-arrow:before {content: \"▸\";float: left;margin-right: 0.25em;color: #696969;}#sk-container-id-1 label.sk-toggleable__label-arrow:hover:before {color: black;}#sk-container-id-1 div.sk-estimator:hover label.sk-toggleable__label-arrow:before {color: black;}#sk-container-id-1 div.sk-toggleable__content {max-height: 0;max-width: 0;overflow: hidden;text-align: left;background-color: #f0f8ff;}#sk-container-id-1 div.sk-toggleable__content pre {margin: 0.2em;color: black;border-radius: 0.25em;background-color: #f0f8ff;}#sk-container-id-1 input.sk-toggleable__control:checked~div.sk-toggleable__content {max-height: 200px;max-width: 100%;overflow: auto;}#sk-container-id-1 input.sk-toggleable__control:checked~label.sk-toggleable__label-arrow:before {content: \"▾\";}#sk-container-id-1 div.sk-estimator input.sk-toggleable__control:checked~label.sk-toggleable__label {background-color: #d4ebff;}#sk-container-id-1 div.sk-label input.sk-toggleable__control:checked~label.sk-toggleable__label {background-color: #d4ebff;}#sk-container-id-1 input.sk-hidden--visually {border: 0;clip: rect(1px 1px 1px 1px);clip: rect(1px, 1px, 1px, 1px);height: 1px;margin: -1px;overflow: hidden;padding: 0;position: absolute;width: 1px;}#sk-container-id-1 div.sk-estimator {font-family: monospace;background-color: #f0f8ff;border: 1px dotted black;border-radius: 0.25em;box-sizing: border-box;margin-bottom: 0.5em;}#sk-container-id-1 div.sk-estimator:hover {background-color: #d4ebff;}#sk-container-id-1 div.sk-parallel-item::after {content: \"\";width: 100%;border-bottom: 1px solid gray;flex-grow: 1;}#sk-container-id-1 div.sk-label:hover label.sk-toggleable__label {background-color: #d4ebff;}#sk-container-id-1 div.sk-serial::before {content: \"\";position: absolute;border-left: 1px solid gray;box-sizing: border-box;top: 0;bottom: 0;left: 50%;z-index: 0;}#sk-container-id-1 div.sk-serial {display: flex;flex-direction: column;align-items: center;background-color: white;padding-right: 0.2em;padding-left: 0.2em;position: relative;}#sk-container-id-1 div.sk-item {position: relative;z-index: 1;}#sk-container-id-1 div.sk-parallel {display: flex;align-items: stretch;justify-content: center;background-color: white;position: relative;}#sk-container-id-1 div.sk-item::before, #sk-container-id-1 div.sk-parallel-item::before {content: \"\";position: absolute;border-left: 1px solid gray;box-sizing: border-box;top: 0;bottom: 0;left: 50%;z-index: -1;}#sk-container-id-1 div.sk-parallel-item {display: flex;flex-direction: column;z-index: 1;position: relative;background-color: white;}#sk-container-id-1 div.sk-parallel-item:first-child::after {align-self: flex-end;width: 50%;}#sk-container-id-1 div.sk-parallel-item:last-child::after {align-self: flex-start;width: 50%;}#sk-container-id-1 div.sk-parallel-item:only-child::after {width: 0;}#sk-container-id-1 div.sk-dashed-wrapped {border: 1px dashed gray;margin: 0 0.4em 0.5em 0.4em;box-sizing: border-box;padding-bottom: 0.4em;background-color: white;}#sk-container-id-1 div.sk-label label {font-family: monospace;font-weight: bold;display: inline-block;line-height: 1.2em;}#sk-container-id-1 div.sk-label-container {text-align: center;}#sk-container-id-1 div.sk-container {/* jupyter's `normalize.less` sets `[hidden] { display: none; }` but bootstrap.min.css set `[hidden] { display: none !important; }` so we also need the `!important` here to be able to override the default hidden behavior on the sphinx rendered scikit-learn.org. See: https://github.com/scikit-learn/scikit-learn/issues/21755 */display: inline-block !important;position: relative;}#sk-container-id-1 div.sk-text-repr-fallback {display: none;}</style><div id=\"sk-container-id-1\" class=\"sk-top-container\"><div class=\"sk-text-repr-fallback\"><pre>LinearRegression()</pre><b>In a Jupyter environment, please rerun this cell to show the HTML representation or trust the notebook. <br />On GitHub, the HTML representation is unable to render, please try loading this page with nbviewer.org.</b></div><div class=\"sk-container\" hidden><div class=\"sk-item\"><div class=\"sk-estimator sk-toggleable\"><input class=\"sk-toggleable__control sk-hidden--visually\" id=\"sk-estimator-id-1\" type=\"checkbox\" checked><label for=\"sk-estimator-id-1\" class=\"sk-toggleable__label sk-toggleable__label-arrow\">LinearRegression</label><div class=\"sk-toggleable__content\"><pre>LinearRegression()</pre></div></div></div></div></div>"
      ],
      "text/plain": [
       "LinearRegression()"
      ]
     },
     "execution_count": 19,
     "metadata": {},
     "output_type": "execute_result"
    }
   ],
   "source": [
    "model_lr = LinearRegression()\n",
    "\n",
    "# Fitting the model to the training data\n",
    "model_lr.fit(X_train, y_train)"
   ]
  },
  {
   "cell_type": "markdown",
   "metadata": {},
   "source": [
    "### Evaluate"
   ]
  },
  {
   "cell_type": "code",
   "execution_count": 20,
   "metadata": {},
   "outputs": [
    {
     "name": "stdout",
     "output_type": "stream",
     "text": [
      "Test MAE: 8.79\n",
      "Test accuracy: 0.5945741859094273\n",
      "Test Set RMSE: 10.773747951586417\n"
     ]
    }
   ],
   "source": [
    "# Make predictions on the test set\n",
    "y_pred = model_lr.predict(X_test)\n",
    "\n",
    "# calculate test MAE\n",
    "mae_test = mean_absolute_error(y_pred, y_test)\n",
    "print(\"Test MAE: {}\".format(round(mae_test, 2)))\n",
    "\n",
    "# calculate accuracy\n",
    "accuracy = model_lr.score(X_test, y_test)\n",
    "print(\"Test accuracy: {}\".format(accuracy))\n",
    "\n",
    "# Calculate the test_rmse\n",
    "test_rmse = mean_squared_error(y_test, y_pred) ** (1/2)\n",
    "print(\"Test Set RMSE: {}\".format(test_rmse))\n"
   ]
  },
  {
   "cell_type": "markdown",
   "metadata": {},
   "source": [
    "## Communicate"
   ]
  },
  {
   "cell_type": "code",
   "execution_count": 21,
   "metadata": {},
   "outputs": [
    {
     "name": "stdout",
     "output_type": "stream",
     "text": [
      "Feature 1: Importance = 0.9525961294888027\n",
      "Feature 2: Importance = 0.11925307197314845\n"
     ]
    }
   ],
   "source": [
    "\n",
    "\n",
    "# Get feature coefficients (importances)\n",
    "coefficients = model_lr.coef_\n",
    "\n",
    "# Print feature importances\n",
    "for i, coefficient in enumerate(coefficients):\n",
    "    print(f\"Feature {i+1}: Importance = {coefficient}\")\n",
    "\n"
   ]
  },
  {
   "cell_type": "code",
   "execution_count": null,
   "metadata": {},
   "outputs": [],
   "source": []
  },
  {
   "cell_type": "code",
   "execution_count": null,
   "metadata": {},
   "outputs": [],
   "source": []
  }
 ],
 "metadata": {
  "kernelspec": {
   "display_name": "Python 3 (ipykernel)",
   "language": "python",
   "name": "python3"
  },
  "language_info": {
   "codemirror_mode": {
    "name": "ipython",
    "version": 3
   },
   "file_extension": ".py",
   "mimetype": "text/x-python",
   "name": "python",
   "nbconvert_exporter": "python",
   "pygments_lexer": "ipython3",
   "version": "3.10.9"
  }
 },
 "nbformat": 4,
 "nbformat_minor": 2
}
